{
    "metadata": {
        "kernelspec": {
            "name": "SQL",
            "display_name": "SQL",
            "language": "sql"
        },
        "language_info": {
            "name": "sql",
            "version": ""
        }
    },
    "nbformat_minor": 2,
    "nbformat": 4,
    "cells": [
        {
            "cell_type": "markdown",
            "source": [
                "# **Delete everything in the DWH DB with this Query below**"
            ],
            "metadata": {
                "language": "sql",
                "azdata_cell_guid": "e413d37b-3b85-44e2-9650-7f37fe85fb97"
            },
            "attachments": {}
        },
        {
            "cell_type": "code",
            "source": [
                "\n",
                "USE ERP\n",
                "GO\n",
                "CREATE PROCEDURE usp_DropDatabase\n",
                "    @DatabaseName NVARCHAR(128)\n",
                "AS\n",
                "BEGIN\n",
                "    SET NOCOUNT ON;\n",
                "\n",
                "    DECLARE @KillCommand NVARCHAR(MAX);\n",
                "    DECLARE @Sql NVARCHAR(MAX);\n",
                "\n",
                "    -- Initialize the command to kill active connections\n",
                "    SET @KillCommand = '';\n",
                "\n",
                "    -- Build the kill command for each active connection, excluding the current session\n",
                "    SELECT @KillCommand = @KillCommand + 'KILL ' + CONVERT(NVARCHAR(10), session_id) + ';'\n",
                "    FROM sys.dm_exec_sessions\n",
                "    WHERE database_id = DB_ID(@DatabaseName) AND session_id <> @@SPID;\n",
                "\n",
                "    -- Execute the kill commands\n",
                "    EXEC sp_executesql @KillCommand;\n",
                "\n",
                "    -- Drop the database\n",
                "    SET @Sql = N'DROP DATABASE IF EXISTS [' + @DatabaseName + ']';\n",
                "    EXEC sp_executesql @Sql;\n",
                "END\n",
                "\n",
                "GO\n",
                "\n",
                "/*\n",
                "Anlegen der grundsätzlichen Datenbankobjekte (Datenbank, Schema)\n",
                "*/\n",
                "\n",
                "-- Ausführen der Helper Stored Procedure um die Datenbank zu löschen\n",
                "EXEC usp_DropDatabase 'dwh'\n",
                "\n",
                "CREATE DATABASE dwh COLLATE SQL_Latin1_General_CP1_CI_AS; -- Gleiche Collation wie die ERP Datenbank\n",
                ""
            ],
            "metadata": {
                "azdata_cell_guid": "35892c1b-d930-4756-b456-5e64c01ae23b",
                "language": "sql"
            },
            "outputs": [
                {
                    "output_type": "display_data",
                    "data": {
                        "text/html": "Commands completed successfully."
                    },
                    "metadata": {}
                },
                {
                    "output_type": "error",
                    "evalue": "Msg 2714, Level 16, State 3, Procedure usp_DropDatabase, Line 1\nThere is already an object named 'usp_DropDatabase' in the database.",
                    "ename": "",
                    "traceback": []
                },
                {
                    "output_type": "display_data",
                    "data": {
                        "text/html": "Commands completed successfully."
                    },
                    "metadata": {}
                },
                {
                    "output_type": "display_data",
                    "data": {
                        "text/html": "Total execution time: 00:00:00.714"
                    },
                    "metadata": {}
                }
            ],
            "execution_count": 1
        },
        {
            "cell_type": "markdown",
            "source": [
                "# **TO Update All Data in the Table just run the Cell below**"
            ],
            "metadata": {
                "language": "sql",
                "azdata_cell_guid": "21cf5adf-2c98-4cb7-95b5-27d7e472e154"
            },
            "attachments": {}
        },
        {
            "cell_type": "code",
            "source": [
                "EXEC Transfer_Sales_SalesOrderHeader\n",
                "EXEC Transfer_Sales_SalesOrderDetail\n",
                "EXEC Transfer_Production_Product\n",
                "EXEC ETL_Growth_Facttable @Betrachtungsjahr = 2014\n",
                "\n",
                "EXEC Transfer_Sales_SalesOrderHeader\n",
                "EXEC Transfer_Sales_SalesOrderDetail\n",
                "EXEC Transfer_Production_ProductInventory\n",
                "EXEC Transfer_Production_Product\n",
                "EXEC ETL_SalesTrends_Facttable\n",
                "\n",
                "EXEC Transfer_Sales_SalesPerson\n",
                "EXEC Transfer_Sales_SalesTerritory\n",
                "EXEC ETL_TerritorySales_Facttable\n",
                "\n",
                "EXEC ETL_SalesTrendsSpecified_Facttable 'AWC Logo Cap' --Here you could change the Filtered Product Example ML Road Tire"
            ],
            "metadata": {
                "language": "sql",
                "azdata_cell_guid": "d567fac7-8e8c-43d2-a5e3-1191508b45b4"
            },
            "outputs": [
                {
                    "output_type": "display_data",
                    "data": {
                        "text/html": "(31465 rows affected)"
                    },
                    "metadata": {}
                },
                {
                    "output_type": "display_data",
                    "data": {
                        "text/html": "(121317 rows affected)"
                    },
                    "metadata": {}
                },
                {
                    "output_type": "display_data",
                    "data": {
                        "text/html": "(504 rows affected)"
                    },
                    "metadata": {}
                },
                {
                    "output_type": "display_data",
                    "data": {
                        "text/html": "(31465 rows affected)"
                    },
                    "metadata": {}
                },
                {
                    "output_type": "display_data",
                    "data": {
                        "text/html": "(121317 rows affected)"
                    },
                    "metadata": {}
                },
                {
                    "output_type": "display_data",
                    "data": {
                        "text/html": "(1069 rows affected)"
                    },
                    "metadata": {}
                },
                {
                    "output_type": "display_data",
                    "data": {
                        "text/html": "(504 rows affected)"
                    },
                    "metadata": {}
                },
                {
                    "output_type": "display_data",
                    "data": {
                        "text/html": "(17 rows affected)"
                    },
                    "metadata": {}
                },
                {
                    "output_type": "display_data",
                    "data": {
                        "text/html": "(10 rows affected)"
                    },
                    "metadata": {}
                },
                {
                    "output_type": "display_data",
                    "data": {
                        "text/html": "Total execution time: 00:00:03.686"
                    },
                    "metadata": {}
                }
            ],
            "execution_count": 36
        },
        {
            "cell_type": "markdown",
            "source": [
                "# **run the Query underneath with running all Code below**\n",
                "\n",
                "![](data:image/png;base64,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)"
            ],
            "metadata": {
                "language": "sql",
                "azdata_cell_guid": "d8ebcafb-b0db-4f6e-9b9d-2ad75778691d"
            },
            "attachments": {}
        },
        {
            "cell_type": "code",
            "source": [
                "USE dwh"
            ],
            "metadata": {
                "language": "sql",
                "azdata_cell_guid": "3b39825c-64bf-4f20-9379-4d2a3e84921f"
            },
            "outputs": [
                {
                    "output_type": "display_data",
                    "data": {
                        "text/html": "Commands completed successfully."
                    },
                    "metadata": {}
                },
                {
                    "output_type": "display_data",
                    "data": {
                        "text/html": "Total execution time: 00:00:00.055"
                    },
                    "metadata": {}
                }
            ],
            "execution_count": 2
        },
        {
            "cell_type": "code",
            "source": [
                "\n",
                "CREATE SCHEMA staging"
            ],
            "metadata": {
                "azdata_cell_guid": "22ded45d-aea1-49d4-a4f8-86b4010a9df7",
                "language": "sql",
                "tags": []
            },
            "outputs": [
                {
                    "output_type": "display_data",
                    "data": {
                        "text/html": "Commands completed successfully."
                    },
                    "metadata": {}
                },
                {
                    "output_type": "display_data",
                    "data": {
                        "text/html": "Total execution time: 00:00:00.054"
                    },
                    "metadata": {}
                }
            ],
            "execution_count": 3
        },
        {
            "cell_type": "code",
            "source": [
                "CREATE SCHEMA DWH_SalesTrends"
            ],
            "metadata": {
                "language": "sql",
                "azdata_cell_guid": "541d4f16-3702-4eba-8af7-bff409a32146"
            },
            "outputs": [
                {
                    "output_type": "display_data",
                    "data": {
                        "text/html": "Commands completed successfully."
                    },
                    "metadata": {}
                },
                {
                    "output_type": "display_data",
                    "data": {
                        "text/html": "Total execution time: 00:00:00.046"
                    },
                    "metadata": {}
                }
            ],
            "execution_count": 4
        },
        {
            "cell_type": "code",
            "source": [
                "CREATE SCHEMA DWH_SalesTrendsSpecified"
            ],
            "metadata": {
                "language": "sql",
                "azdata_cell_guid": "78c13a3b-fa31-49e9-959a-0a0dbfe55df8"
            },
            "outputs": [
                {
                    "output_type": "display_data",
                    "data": {
                        "text/html": "Commands completed successfully."
                    },
                    "metadata": {}
                },
                {
                    "output_type": "display_data",
                    "data": {
                        "text/html": "Total execution time: 00:00:00.039"
                    },
                    "metadata": {}
                }
            ],
            "execution_count": 5
        },
        {
            "cell_type": "code",
            "source": [
                "CREATE SCHEMA DWH_TerritorySales"
            ],
            "metadata": {
                "language": "sql",
                "azdata_cell_guid": "6cda4aba-50be-4415-a8f5-2dbda149efbd"
            },
            "outputs": [
                {
                    "output_type": "display_data",
                    "data": {
                        "text/html": "Commands completed successfully."
                    },
                    "metadata": {}
                },
                {
                    "output_type": "display_data",
                    "data": {
                        "text/html": "Total execution time: 00:00:00.089"
                    },
                    "metadata": {}
                }
            ],
            "execution_count": 6
        },
        {
            "cell_type": "code",
            "source": [
                "CREATE SCHEMA DWH_Growth"
            ],
            "metadata": {
                "language": "sql",
                "azdata_cell_guid": "e2978d8d-8dc1-40c8-9611-a2ce47adfb58"
            },
            "outputs": [
                {
                    "output_type": "display_data",
                    "data": {
                        "text/html": "Commands completed successfully."
                    },
                    "metadata": {}
                },
                {
                    "output_type": "display_data",
                    "data": {
                        "text/html": "Total execution time: 00:00:00.075"
                    },
                    "metadata": {}
                }
            ],
            "execution_count": 7
        },
        {
            "cell_type": "markdown",
            "source": [
                "## Transfer Table into staging - Silja"
            ],
            "metadata": {
                "azdata_cell_guid": "48399e66-3da7-4f30-8f2c-02ab6bf52519"
            },
            "attachments": {}
        },
        {
            "cell_type": "code",
            "source": [
                "USE DWH;\n",
                "GO\n",
                "CREATE PROCEDURE \"Transfer_Sales_SalesOrderHeader\"\n",
                "(\n",
                "@SourceDB VARCHAR(50)= \"ERP\",\n",
                "@SourceSchemaTable VARCHAR(50)= \"Sales.SalesOrderHeader\",\n",
                "@DestinationDB VARCHAR(50) = \"DWH\",\n",
                "@DestinationSchemaTable VARCHAR(50) = \"staging.Staging_SalesOrderHeader\"\n",
                ")AS\n",
                "BEGIN\n",
                "DECLARE @SQL NVARCHAR(MAX)\n",
                "    DECLARE @FullyQualifiedDestinationTable NVARCHAR(128) = @DestinationDB + '.' + @DestinationSchemaTable;\n",
                "\n",
                "BEGIN TRY\n",
                "    IF OBJECT_ID(@FullyQualifiedDestinationTable, 'U') IS NOT NULL\n",
                "    BEGIN\n",
                "        SET @SQL = 'DROP TABLE ' + @FullyQualifiedDestinationTable;\n",
                "        EXEC sp_executesql @SQL;\n",
                "    END\n",
                "\n",
                "\n",
                "SET @SQL = N'SELECT * INTO ' + @DestinationDB + '.' + @DestinationSchemaTable + ' FROM ' + @SourceDB + '.' + @SourceSchemaTable\n",
                "EXEC sp_executesql @SQL;\n",
                "\n",
                "END TRY\n",
                "    BEGIN CATCH\n",
                "        PRINT 'Ein Fehler ist aufgetreten: ' + ERROR_MESSAGE();\n",
                "        THROW;\n",
                "    END CATCH\n",
                "END;\n",
                "Go"
            ],
            "metadata": {
                "azdata_cell_guid": "b028c4b0-8ca8-4535-9253-7086b86d0f98",
                "language": "sql"
            },
            "outputs": [
                {
                    "output_type": "display_data",
                    "data": {
                        "text/html": "Commands completed successfully."
                    },
                    "metadata": {}
                },
                {
                    "output_type": "display_data",
                    "data": {
                        "text/html": "Commands completed successfully."
                    },
                    "metadata": {}
                },
                {
                    "output_type": "display_data",
                    "data": {
                        "text/html": "Total execution time: 00:00:00.121"
                    },
                    "metadata": {}
                }
            ],
            "execution_count": 8
        },
        {
            "cell_type": "code",
            "source": [
                "USE DWH;\n",
                "GO\n",
                "CREATE PROCEDURE \"Transfer_Sales_SalesOrderDetail\"\n",
                "(\n",
                "@SourceDB VARCHAR(50)= \"ERP\",\n",
                "@SourceSchemaTable VARCHAR(50)= \"Sales.SalesOrderDetail\",\n",
                "@DestinationDB VARCHAR(50) = \"DWH\",\n",
                "@DestinationSchemaTable VARCHAR(50) = \"staging.Staging_SalesOrderDetail\"\n",
                ")AS\n",
                "BEGIN\n",
                "DECLARE @SQL NVARCHAR(MAX)\n",
                "    DECLARE @FullyQualifiedDestinationTable NVARCHAR(128) = @DestinationDB + '.' + @DestinationSchemaTable;\n",
                "\n",
                "BEGIN TRY\n",
                "    IF OBJECT_ID(@FullyQualifiedDestinationTable, 'U') IS NOT NULL\n",
                "    BEGIN\n",
                "        SET @SQL = 'DROP TABLE ' + @FullyQualifiedDestinationTable;\n",
                "        EXEC sp_executesql @SQL;\n",
                "    END\n",
                "\n",
                "\n",
                "SET @SQL = N'SELECT * INTO ' + @DestinationDB + '.' + @DestinationSchemaTable + ' FROM ' + @SourceDB + '.' + @SourceSchemaTable\n",
                "EXEC sp_executesql @SQL;\n",
                "END TRY\n",
                "    BEGIN CATCH\n",
                "        PRINT 'Ein Fehler ist aufgetreten: ' + ERROR_MESSAGE();\n",
                "        THROW;\n",
                "    END CATCH\n",
                "END;\n",
                "Go"
            ],
            "metadata": {
                "azdata_cell_guid": "65012f63-b8e2-43db-ac0b-f051d20ca8ba",
                "language": "sql"
            },
            "outputs": [
                {
                    "output_type": "display_data",
                    "data": {
                        "text/html": "Commands completed successfully."
                    },
                    "metadata": {}
                },
                {
                    "output_type": "display_data",
                    "data": {
                        "text/html": "Commands completed successfully."
                    },
                    "metadata": {}
                },
                {
                    "output_type": "display_data",
                    "data": {
                        "text/html": "Total execution time: 00:00:00.091"
                    },
                    "metadata": {}
                }
            ],
            "execution_count": 9
        },
        {
            "cell_type": "code",
            "source": [
                "USE DWH;\n",
                "GO\n",
                "CREATE PROCEDURE \"Transfer_Production_Product\"\n",
                "(\n",
                "@SourceDB VARCHAR(50)= \"ERP\",\n",
                "@SourceSchemaTable VARCHAR(50)= \"Production.Product\",\n",
                "@DestinationDB VARCHAR(50) = \"DWH\",\n",
                "@DestinationSchemaTable VARCHAR(50) = \"staging.Staging_Product\"\n",
                ")AS\n",
                "BEGIN\n",
                "DECLARE @SQL NVARCHAR(MAX)\n",
                "\n",
                "BEGIN TRY\n",
                "    DECLARE @FullyQualifiedDestinationTable NVARCHAR(128) = @DestinationDB + '.' + @DestinationSchemaTable;\n",
                "\n",
                "    -- Check if the destination table exists and drop it if necessary\n",
                "    IF OBJECT_ID(@FullyQualifiedDestinationTable, 'U') IS NOT NULL\n",
                "    BEGIN\n",
                "        SET @SQL = 'DROP TABLE ' + @FullyQualifiedDestinationTable;\n",
                "        EXEC sp_executesql @SQL;\n",
                "    END\n",
                "\n",
                "SET @SQL = N'SELECT * INTO ' + @DestinationDB + '.' + @DestinationSchemaTable + ' FROM ' + @SourceDB + '.' + @SourceSchemaTable\n",
                "EXEC sp_executesql @SQL;\n",
                "\n",
                "END TRY\n",
                "    BEGIN CATCH\n",
                "        PRINT 'Ein Fehler ist aufgetreten: ' + ERROR_MESSAGE();\n",
                "        THROW;\n",
                "    END CATCH\n",
                "END;\n",
                "Go"
            ],
            "metadata": {
                "azdata_cell_guid": "da823017-cf58-4964-bce0-98ef3968d8e8",
                "language": "sql"
            },
            "outputs": [
                {
                    "output_type": "display_data",
                    "data": {
                        "text/html": "Commands completed successfully."
                    },
                    "metadata": {}
                },
                {
                    "output_type": "display_data",
                    "data": {
                        "text/html": "Commands completed successfully."
                    },
                    "metadata": {}
                },
                {
                    "output_type": "display_data",
                    "data": {
                        "text/html": "Total execution time: 00:00:00.113"
                    },
                    "metadata": {}
                }
            ],
            "execution_count": 10
        },
        {
            "cell_type": "markdown",
            "source": [
                "## ETL - Silja"
            ],
            "metadata": {
                "azdata_cell_guid": "38c6dd5b-9ec1-447d-84a8-84bafcddde60"
            },
            "attachments": {}
        },
        {
            "cell_type": "code",
            "source": [
                "Use DWH;\n",
                "GO\n",
                "CREATE PROCEDURE CreateYearsTable\n",
                "AS\n",
                "BEGIN\n",
                "    SET NOCOUNT ON;\n",
                "\n",
                "BEGIN TRY\n",
                "\n",
                "    IF OBJECT_ID('DWH.DWH_Growth.Dim_Years', 'U') IS NOT NULL\n",
                "    BEGIN\n",
                "        DROP TABLE DWH.DWH_Growth.Dim_Years; \n",
                "    END\n",
                "\n",
                "    CREATE TABLE [DWH].[DWH_Growth].Dim_Years (\n",
                "        SalesYear INT ,      \n",
                "        YearID INT PRIMARY KEY NOT NULL        \n",
                "    );\n",
                "\n",
                "    INSERT INTO [DWH].[DWH_Growth].Dim_Years (SalesYear, YearID)\n",
                "    VALUES \n",
                "        (1, 2011),\n",
                "        (2, 2012),\n",
                "        (3, 2013),\n",
                "        (4, 2014);\n",
                "\n",
                "END TRY\n",
                "    BEGIN CATCH\n",
                "        PRINT 'Ein Fehler ist aufgetreten: ' + ERROR_MESSAGE();\n",
                "        THROW;\n",
                "    END CATCH\n",
                "END;\n",
                "GO\n",
                ""
            ],
            "metadata": {
                "azdata_cell_guid": "7d2a0a33-3b24-4ee4-8b0b-a7f078b79897",
                "language": "sql",
                "tags": []
            },
            "outputs": [
                {
                    "output_type": "display_data",
                    "data": {
                        "text/html": "Commands completed successfully."
                    },
                    "metadata": {}
                },
                {
                    "output_type": "display_data",
                    "data": {
                        "text/html": "Commands completed successfully."
                    },
                    "metadata": {}
                },
                {
                    "output_type": "display_data",
                    "data": {
                        "text/html": "Total execution time: 00:00:00.107"
                    },
                    "metadata": {}
                }
            ],
            "execution_count": 11
        },
        {
            "cell_type": "code",
            "source": [
                "USE DWH;\n",
                "GO\n",
                "\n",
                "CREATE PROCEDURE ETL_Growth_ProductID\n",
                "AS\n",
                "BEGIN\n",
                "    SET NOCOUNT ON;\n",
                "\n",
                "    DECLARE @TableToCreate NVARCHAR(128) = 'DWH.DWH_Growth.Dim_ProductID';\n",
                "    DECLARE @SQL NVARCHAR(MAX);\n",
                "\n",
                "    BEGIN TRY\n",
                "\n",
                "    IF OBJECT_ID(@TableToCreate, 'U') IS NOT NULL\n",
                "    BEGIN\n",
                "        SET @SQL = 'DROP TABLE ' + @TableToCreate;\n",
                "        EXEC sp_executesql @SQL;\n",
                "    END\n",
                "\n",
                "    SET @SQL = 'CREATE TABLE ' + @TableToCreate + ' (\n",
                "        ProductID INT PRIMARY KEY,\n",
                "        Produktname VARCHAR(MAX)\n",
                "    )';\n",
                "    EXEC sp_executesql @SQL;\n",
                "\n",
                "-- Define the SELECT DISTINCT AND THE COLUMNS we want to select\n",
                "    SET @SQL = 'INSERT INTO ' + @TableToCreate + ' (ProductID, Produktname)\n",
                "    SELECT DISTINCT pr.ProductID, \n",
                "pr.Name as Produktname\n",
                "FROM  \n",
                "    staging.Staging_SalesOrderHeader sh  \n",
                "LEFT OUTER JOIN  \n",
                "    staging.Staging_SalesOrderDetail sd ON sh.SalesOrderID = sd.SalesOrderID \n",
                "LEFT OUTER JOIN  \n",
                "    staging.Staging_Product pr ON sd.ProductID = pr.ProductID';\n",
                "    EXEC sp_executesql @SQL;\n",
                "\n",
                "    END TRY\n",
                "    BEGIN CATCH\n",
                "        PRINT 'Ein Fehler ist aufgetreten: ' + ERROR_MESSAGE();\n",
                "        THROW;\n",
                "    END CATCH\n",
                "END;\n",
                "GO\n",
                "\n",
                "\n",
                ""
            ],
            "metadata": {
                "azdata_cell_guid": "fcc851cf-7aad-4753-a8ce-458a70bee55d",
                "language": "sql"
            },
            "outputs": [
                {
                    "output_type": "display_data",
                    "data": {
                        "text/html": "Commands completed successfully."
                    },
                    "metadata": {}
                },
                {
                    "output_type": "display_data",
                    "data": {
                        "text/html": "Commands completed successfully."
                    },
                    "metadata": {}
                },
                {
                    "output_type": "display_data",
                    "data": {
                        "text/html": "Total execution time: 00:00:00.130"
                    },
                    "metadata": {}
                }
            ],
            "execution_count": 12
        },
        {
            "cell_type": "code",
            "source": [
                "USE DWH;\n",
                "GO\n",
                "\n",
                "CREATE PROCEDURE ETL_Growth_Facttable(\n",
                "    @Betrachtungsjahr INT\n",
                ")\n",
                "AS\n",
                "BEGIN\n",
                "    SET NOCOUNT ON;\n",
                "\n",
                "    DECLARE @TableToCreate NVARCHAR(128) = 'DWH.DWH_Growth.Facttable';\n",
                "    DECLARE @SQL NVARCHAR(MAX);\n",
                "    DECLARE @Year NVARCHAR(10) = CAST(@Betrachtungsjahr AS NVARCHAR);\n",
                "\n",
                "    BEGIN TRY\n",
                "\n",
                "    IF OBJECT_ID(@TableToCreate, 'U') IS NOT NULL\n",
                "    BEGIN\n",
                "        DECLARE @DropFKSQL NVARCHAR(MAX);\n",
                "        SET @DropFKSQL = N'';\n",
                "\n",
                "        SELECT @DropFKSQL = @DropFKSQL + 'ALTER TABLE ' + QUOTENAME(OBJECT_NAME(parent_object_id)) + \n",
                "                            ' DROP CONSTRAINT ' + QUOTENAME(name) + '; '\n",
                "        FROM sys.foreign_keys\n",
                "        WHERE referenced_object_id = OBJECT_ID(@TableToCreate);\n",
                "\n",
                "        EXEC sp_executesql @DropFKSQL;\n",
                "\n",
                "        SET @SQL = 'DROP TABLE ' + @TableToCreate;\n",
                "        EXEC sp_executesql @SQL;\n",
                "    END\n",
                "    EXEC ETL_Growth_ProductID\n",
                "    EXEC CreateYearsTable\n",
                "\n",
                "    SET @SQL = 'CREATE TABLE ' + @TableToCreate + ' (\n",
                "        ProductID INT FOREIGN KEY REFERENCES DWH_Growth.Dim_ProductID(ProductID) NOT NULL,\n",
                "        Produktnummer NVARCHAR(50) NULL,\n",
                "        Umsatz_Vorjahr DECIMAL(18, 6) NULL,\n",
                "        Umsatz_Betrachtungsjahr DECIMAL(18, 6) NULL,\n",
                "        Wachstum DECIMAL(18, 6) NULL,\n",
                "        Betrachtungsjahr INT FOREIGN KEY REFERENCES DWH_Growth.Dim_Years(YearID) NULL\n",
                "    )';\n",
                "    EXEC sp_executesql @SQL;\n",
                "\n",
                "    SET @SQL = '\n",
                "    INSERT INTO ' + @TableToCreate + ' (ProductID, Produktnummer, Umsatz_Vorjahr, Umsatz_Betrachtungsjahr, Wachstum, Betrachtungsjahr)\n",
                "    SELECT DISTINCT \n",
                "        pr.ProductID,  \n",
                "        pr.ProductNumber AS Produktnummer,\n",
                "        -- Umsatz Vorjahr\n",
                "        SUM(CASE WHEN YEAR(sh.OrderDate) = ' + @Year + ' - 1 THEN sd.LineTotal ELSE 0 END) AS Umsatz_Vorjahr,  \n",
                "        -- Umsatz Betrachtungsjahr\n",
                "        SUM(CASE WHEN YEAR(sh.OrderDate) = ' + @Year + ' THEN sd.LineTotal ELSE 0 END) AS Umsatz_Betrachtungsjahr,  \n",
                "        -- Wachstum\n",
                "        CASE  \n",
                "            WHEN SUM(CASE WHEN YEAR(sh.OrderDate) = ' + @Year + ' THEN sd.LineTotal ELSE 0 END) > 0 THEN  \n",
                "                100.0 * (\n",
                "                    SUM(CASE WHEN YEAR(sh.OrderDate) = ' + @Year + ' THEN sd.LineTotal ELSE 0 END) - \n",
                "                    SUM(CASE WHEN YEAR(sh.OrderDate) = ' + @Year + ' - 1 THEN sd.LineTotal ELSE 0 END)\n",
                "                ) / NULLIF(SUM(CASE WHEN YEAR(sh.OrderDate) = ' + @Year + ' - 1 THEN sd.LineTotal ELSE 0 END), 0)\n",
                "            ELSE NULL\n",
                "        END AS Wachstum,  \n",
                "        ' + @Year + ' AS Betrachtungsjahr  \n",
                "    FROM  \n",
                "        staging.Staging_SalesOrderHeader sh  \n",
                "    LEFT OUTER JOIN  \n",
                "        staging.Staging_SalesOrderDetail sd ON sh.SalesOrderID = sd.SalesOrderID \n",
                "    LEFT OUTER JOIN  \n",
                "        staging.Staging_Product pr ON sd.ProductID = pr.ProductID\n",
                "    WHERE \n",
                "        YEAR(sh.OrderDate) IN (' + @Year + ' - 1, ' + @Year + ')\n",
                "    GROUP BY  \n",
                "        pr.ProductNumber,\n",
                "        pr.ProductID';\n",
                "    \n",
                "    EXEC sp_executesql @SQL;\n",
                "    END TRY\n",
                "    BEGIN CATCH\n",
                "        PRINT 'Ein Fehler ist aufgetreten: ' + ERROR_MESSAGE();\n",
                "        THROW;\n",
                "    END CATCH\n",
                "END;\n",
                "GO\n",
                ""
            ],
            "metadata": {
                "azdata_cell_guid": "ebbfe8f1-ef99-44cd-be3a-821e9b0e0312",
                "language": "sql",
                "tags": []
            },
            "outputs": [
                {
                    "output_type": "display_data",
                    "data": {
                        "text/html": "Commands completed successfully."
                    },
                    "metadata": {}
                },
                {
                    "output_type": "display_data",
                    "data": {
                        "text/html": "Commands completed successfully."
                    },
                    "metadata": {}
                },
                {
                    "output_type": "display_data",
                    "data": {
                        "text/html": "Total execution time: 00:00:00.155"
                    },
                    "metadata": {}
                }
            ],
            "execution_count": 13
        },
        {
            "cell_type": "code",
            "source": [
                "EXEC Transfer_Sales_SalesOrderHeader\n",
                "EXEC Transfer_Sales_SalesOrderDetail\n",
                "EXEC Transfer_Production_Product\n",
                "EXEC ETL_Growth_Facttable @Betrachtungsjahr = 2014"
            ],
            "metadata": {
                "azdata_cell_guid": "887eed25-9584-4e54-9060-60c776b2d1f5",
                "language": "sql"
            },
            "outputs": [
                {
                    "output_type": "display_data",
                    "data": {
                        "text/html": "(31465 rows affected)"
                    },
                    "metadata": {}
                },
                {
                    "output_type": "display_data",
                    "data": {
                        "text/html": "(121317 rows affected)"
                    },
                    "metadata": {}
                },
                {
                    "output_type": "display_data",
                    "data": {
                        "text/html": "(504 rows affected)"
                    },
                    "metadata": {}
                },
                {
                    "output_type": "display_data",
                    "data": {
                        "text/html": "Total execution time: 00:00:01.183"
                    },
                    "metadata": {}
                }
            ],
            "execution_count": 14
        },
        {
            "cell_type": "markdown",
            "source": [
                "Notize für mich selber\n",
                "\n",
                "  \n",
                "\n",
                "Ich han jz 2 PK Tables erstellt mit en index für Years und product ID\n",
                "\n",
                "Ich glaub das nechste weri den de FactsTable zmache und de bürst nomal dure mache yk how it goes rock and roll"
            ],
            "metadata": {
                "azdata_cell_guid": "64ca9625-0d5d-4887-887a-de507aee2a7e"
            }
        },
        {
            "cell_type": "markdown",
            "source": [
                "## Alem Transfer Table into staging"
            ],
            "metadata": {
                "azdata_cell_guid": "3168f30c-a99e-466a-a980-374d6e8a2a9c"
            }
        },
        {
            "cell_type": "code",
            "source": [
                "USE DWH;\n",
                "GO\n",
                "CREATE PROCEDURE \"Transfer_Production_ProductInventory\"\n",
                "(\n",
                "@SourceDB VARCHAR(50)= \"ERP\",\n",
                "@SourceSchemaTable VARCHAR(50)= \"Production.ProductInventory\",\n",
                "@DestinationDB VARCHAR(50) = \"DWH\",\n",
                "@DestinationSchemaTable VARCHAR(50) = \"staging.Staging_ProductInventory\"\n",
                ")AS\n",
                "BEGIN\n",
                "DECLARE @SQL NVARCHAR(MAX)\n",
                "    DECLARE @FullyQualifiedDestinationTable NVARCHAR(128) = @DestinationDB + '.' + @DestinationSchemaTable;\n",
                "\n",
                "BEGIN TRY\n",
                "    IF OBJECT_ID(@FullyQualifiedDestinationTable, 'U') IS NOT NULL\n",
                "    BEGIN\n",
                "        SET @SQL = 'DROP TABLE ' + @FullyQualifiedDestinationTable;\n",
                "        EXEC sp_executesql @SQL;\n",
                "    END\n",
                "\n",
                "IF OBJECT_ID(@DestinationDB + @DestinationSchemaTable, 'U') IS NOT NULL\n",
                "BEGIN\n",
                "SET @SQL = 'DROP TABLE ' + @DestinationDB + @DestinationSchemaTable;\n",
                "EXEC sp_executesql @SQL;\n",
                "END\n",
                "SET @SQL = N'SELECT * INTO ' + @DestinationDB + '.' + @DestinationSchemaTable + ' FROM ' + @SourceDB + '.' + @SourceSchemaTable\n",
                "EXEC sp_executesql @SQL;\n",
                "END TRY\n",
                "    BEGIN CATCH\n",
                "        PRINT 'Ein Fehler ist aufgetreten: ' + ERROR_MESSAGE();\n",
                "        THROW;\n",
                "    END CATCH\n",
                "END;\n",
                "Go"
            ],
            "metadata": {
                "azdata_cell_guid": "a1fe839e-26e6-4f88-aa1a-b28706c10bdd",
                "language": "sql"
            },
            "outputs": [
                {
                    "output_type": "display_data",
                    "data": {
                        "text/html": "Commands completed successfully."
                    },
                    "metadata": {}
                },
                {
                    "output_type": "display_data",
                    "data": {
                        "text/html": "Commands completed successfully."
                    },
                    "metadata": {}
                },
                {
                    "output_type": "display_data",
                    "data": {
                        "text/html": "Total execution time: 00:00:00.137"
                    },
                    "metadata": {}
                }
            ],
            "execution_count": 15
        },
        {
            "cell_type": "markdown",
            "source": [
                "## ETL - Alem"
            ],
            "metadata": {
                "azdata_cell_guid": "a8d0db9f-8b88-4356-8b9a-d6a628e1d61d"
            },
            "attachments": {}
        },
        {
            "cell_type": "code",
            "source": [
                "USE DWH;\n",
                "GO\n",
                "\n",
                "CREATE PROCEDURE ETL_SalesTrends_ProductID\n",
                "AS\n",
                "BEGIN\n",
                "    SET NOCOUNT ON;\n",
                "\n",
                "    DECLARE @TableToCreate NVARCHAR(128) = 'DWH.DWH_SalesTrends.Dim_ProductID';\n",
                "    DECLARE @SQL NVARCHAR(MAX);\n",
                "    BEGIN TRY\n",
                "\n",
                "    IF OBJECT_ID(@TableToCreate, 'U') IS NOT NULL\n",
                "    BEGIN\n",
                "        SET @SQL = 'DROP TABLE ' + @TableToCreate;\n",
                "        EXEC sp_executesql @SQL;\n",
                "    END\n",
                "\n",
                "    SET @SQL = 'CREATE TABLE ' + @TableToCreate + ' (\n",
                "        ProductID INT PRIMARY KEY,\n",
                "        Produktname VARCHAR(MAX)\n",
                "    )';\n",
                "    EXEC sp_executesql @SQL;\n",
                "\n",
                "-- Define the SELECT DISTINCT AND THE COLUMNS we want to select\n",
                "    SET @SQL = 'INSERT INTO ' + @TableToCreate + ' (ProductID, Produktname)\n",
                "    SELECT DISTINCT pr.ProductID, \n",
                "pr.Name as Produktname\n",
                "FROM  \n",
                "    staging.Staging_SalesOrderHeader sh  \n",
                "LEFT OUTER JOIN  \n",
                "    staging.Staging_SalesOrderDetail sd ON sh.SalesOrderID = sd.SalesOrderID \n",
                "LEFT OUTER JOIN  \n",
                "    staging.Staging_Product pr ON sd.ProductID = pr.ProductID';\n",
                "    EXEC sp_executesql @SQL;\n",
                "    END TRY\n",
                "    BEGIN CATCH\n",
                "        PRINT 'Ein Fehler ist aufgetreten: ' + ERROR_MESSAGE();\n",
                "        THROW;\n",
                "    END CATCH\n",
                "END;\n",
                "GO\n",
                "\n",
                "\n",
                ""
            ],
            "metadata": {
                "azdata_cell_guid": "d55b2fb9-96a7-4176-b129-3ca2bad69e7f",
                "language": "sql"
            },
            "outputs": [
                {
                    "output_type": "display_data",
                    "data": {
                        "text/html": "Commands completed successfully."
                    },
                    "metadata": {}
                },
                {
                    "output_type": "display_data",
                    "data": {
                        "text/html": "Commands completed successfully."
                    },
                    "metadata": {}
                },
                {
                    "output_type": "display_data",
                    "data": {
                        "text/html": "Total execution time: 00:00:00.085"
                    },
                    "metadata": {}
                }
            ],
            "execution_count": 16
        },
        {
            "cell_type": "code",
            "source": [
                "Use DWH;\n",
                "GO\n",
                "CREATE PROCEDURE SalesTrends_CreateYearsTable\n",
                "AS\n",
                "BEGIN\n",
                "    SET NOCOUNT ON;\n",
                "    BEGIN TRY\n",
                "\n",
                "\n",
                "    IF OBJECT_ID('DWH.DWH_SalesTrends.Dim_Years', 'U') IS NOT NULL\n",
                "    BEGIN\n",
                "        DROP TABLE DWH.DWH_SalesTrends.Dim_Years; \n",
                "    END\n",
                "\n",
                "    CREATE TABLE [DWH].[DWH_SalesTrends].Dim_Years (\n",
                "        SalesYear INT ,      \n",
                "        YearID INT PRIMARY KEY NOT NULL        \n",
                "    );\n",
                "\n",
                "    INSERT INTO [DWH].[DWH_SalesTrends].Dim_Years (SalesYear, YearID)\n",
                "    VALUES \n",
                "        (1, 2011),\n",
                "        (2, 2012),\n",
                "        (3, 2013),\n",
                "        (4, 2014),\n",
                "        (5, 2015);\n",
                "        END TRY\n",
                "    BEGIN CATCH\n",
                "        PRINT 'Ein Fehler ist aufgetreten: ' + ERROR_MESSAGE();\n",
                "        THROW;\n",
                "    END CATCH\n",
                "END;\n",
                "GO\n",
                ""
            ],
            "metadata": {
                "azdata_cell_guid": "90027834-06df-4a15-b52a-8c87ca0d64a1",
                "language": "sql"
            },
            "outputs": [
                {
                    "output_type": "display_data",
                    "data": {
                        "text/html": "Commands completed successfully."
                    },
                    "metadata": {}
                },
                {
                    "output_type": "display_data",
                    "data": {
                        "text/html": "Commands completed successfully."
                    },
                    "metadata": {}
                },
                {
                    "output_type": "display_data",
                    "data": {
                        "text/html": "Total execution time: 00:00:00.119"
                    },
                    "metadata": {}
                }
            ],
            "execution_count": 17
        },
        {
            "cell_type": "code",
            "source": [
                "USE DWH;\n",
                "GO\n",
                "\n",
                "CREATE PROCEDURE SalesTrends_CreateMonthTable\n",
                "AS\n",
                "BEGIN\n",
                "    SET NOCOUNT ON;\n",
                "    BEGIN TRY\n",
                "\n",
                "    IF OBJECT_ID('DWH.DWH_SalesTrends.Dim_Month', 'U') IS NOT NULL\n",
                "    BEGIN\n",
                "        DROP TABLE DWH.DWH_SalesTrends.Dim_Month; \n",
                "    END\n",
                "\n",
                "    CREATE TABLE [DWH].[DWH_SalesTrends].Dim_Month (\n",
                "        MonthID INT PRIMARY KEY NOT NULL,\n",
                "        MonthName NVARCHAR(50) NOT NULL\n",
                "    );\n",
                "\n",
                "    INSERT INTO [DWH].[DWH_SalesTrends].Dim_Month (MonthID, MonthName)\n",
                "    VALUES \n",
                "        (1, 'January'),\n",
                "        (2, 'February'),\n",
                "        (3, 'March'),\n",
                "        (4, 'April'),\n",
                "        (5, 'May'),\n",
                "        (6, 'June'),\n",
                "        (7, 'July'),\n",
                "        (8, 'August'),\n",
                "        (9, 'September'),\n",
                "        (10, 'October'),\n",
                "        (11, 'November'),\n",
                "        (12, 'December');\n",
                "        END TRY\n",
                "    BEGIN CATCH\n",
                "        PRINT 'Ein Fehler ist aufgetreten: ' + ERROR_MESSAGE();\n",
                "        THROW;\n",
                "    END CATCH\n",
                "END;\n",
                "GO\n",
                ""
            ],
            "metadata": {
                "language": "sql",
                "azdata_cell_guid": "e12eec86-6059-4387-827a-ae88c16d643f"
            },
            "outputs": [
                {
                    "output_type": "display_data",
                    "data": {
                        "text/html": "Commands completed successfully."
                    },
                    "metadata": {}
                },
                {
                    "output_type": "display_data",
                    "data": {
                        "text/html": "Commands completed successfully."
                    },
                    "metadata": {}
                },
                {
                    "output_type": "display_data",
                    "data": {
                        "text/html": "Total execution time: 00:00:00.170"
                    },
                    "metadata": {}
                }
            ],
            "execution_count": 18
        },
        {
            "cell_type": "code",
            "source": [
                "CREATE PROCEDURE ETL_SalesTrends_Facttable\n",
                "AS\n",
                "BEGIN\n",
                "    SET NOCOUNT ON;\n",
                "\n",
                "    DECLARE @TableToCreate NVARCHAR(128) = 'DWH.DWH_SalesTrends.Facttable';\n",
                "    DECLARE @SQL NVARCHAR(MAX);\n",
                "\n",
                "    BEGIN TRY\n",
                "\n",
                "    IF OBJECT_ID(@TableToCreate, 'U') IS NOT NULL\n",
                "    BEGIN\n",
                "        DECLARE @DropFKSQL NVARCHAR(MAX);\n",
                "        SET @DropFKSQL = N'';\n",
                "\n",
                "        SELECT @DropFKSQL = @DropFKSQL + 'ALTER TABLE ' + QUOTENAME(OBJECT_NAME(parent_object_id)) + \n",
                "                            ' DROP CONSTRAINT ' + QUOTENAME(name) + '; '\n",
                "        FROM sys.foreign_keys\n",
                "        WHERE referenced_object_id = OBJECT_ID(@TableToCreate);\n",
                "\n",
                "        EXEC sp_executesql @DropFKSQL;\n",
                "\n",
                "        -- Drop the table\n",
                "        SET @SQL = 'DROP TABLE ' + @TableToCreate;\n",
                "        EXEC sp_executesql @SQL;\n",
                "    END\n",
                "\n",
                "    -- Call other stored procedures\n",
                "    EXEC ETL_SalesTrends_ProductID;\n",
                "    EXEC SalesTrends_CreateYearsTable;\n",
                "    EXEC SalesTrends_CreateMonthTable;\n",
                "\n",
                "    -- Create the Facttable\n",
                "    SET @SQL = 'CREATE TABLE ' + @TableToCreate + ' (\n",
                "        ProductID INT FOREIGN KEY REFERENCES DWH.DWH_SalesTrends.Dim_ProductID(ProductID) NOT NULL,\n",
                "        SalesOrderMonth INT FOREIGN KEY REFERENCES DWH.DWH_SalesTrends.Dim_Month(MonthID) NOT NULL,\n",
                "        SalesOrderYear INT FOREIGN KEY REFERENCES DWH.DWH_SalesTrends.Dim_Years(YearID) NOT NULL,\n",
                "        TotalStock INT,\n",
                "        AvgMonthlySales DECIMAL(18, 2),\n",
                "        MonthsOfStockRemaining DECIMAL(18, 2)\n",
                "    )';\n",
                "    EXEC sp_executesql @SQL;\n",
                "\n",
                "    -- Insert the calculated data\n",
                "    SET @SQL = '\n",
                "    WITH SalesTrends AS (\n",
                "        SELECT\n",
                "            P.ProductID,\n",
                "            P.Name AS ProductName,\n",
                "            MONTH(SOH.OrderDate) AS SalesOrderMonth,\n",
                "            YEAR(SOH.OrderDate) AS SalesOrderYear,\n",
                "            SUM(SOD.OrderQty) AS SoldQtyPerMonth\n",
                "        FROM\n",
                "            staging.Staging_SalesOrderDetail SOD\n",
                "        JOIN\n",
                "            staging.Staging_SalesOrderHeader SOH ON SOD.SalesOrderID = SOH.SalesOrderID\n",
                "        JOIN\n",
                "            staging.Staging_Product P ON SOD.ProductID = P.ProductID\n",
                "        GROUP BY\n",
                "            P.ProductID,\n",
                "            P.Name,\n",
                "            MONTH(SOH.OrderDate),\n",
                "            YEAR(SOH.OrderDate)\n",
                "    ),\n",
                "    StockLevels AS (\n",
                "        SELECT\n",
                "            PI.ProductID,\n",
                "            SUM(PI.Quantity) AS TotalStock\n",
                "        FROM\n",
                "            staging.Staging_ProductInventory PI\n",
                "        GROUP BY\n",
                "            PI.ProductID\n",
                "    )\n",
                "    INSERT INTO DWH.DWH_SalesTrends.Facttable (ProductID, SalesOrderMonth, SalesOrderYear, TotalStock, AvgMonthlySales, MonthsOfStockRemaining)\n",
                "    SELECT\n",
                "        ST.ProductID,\n",
                "        ST.SalesOrderMonth,\n",
                "        ST.SalesOrderYear,\n",
                "        SL.TotalStock,\n",
                "        ST.SoldQtyPerMonth,\n",
                "        CASE\n",
                "            WHEN ST.SoldQtyPerMonth > 0 THEN ROUND(CAST(SL.TotalStock AS FLOAT) / ST.SoldQtyPerMonth, 2)\n",
                "            ELSE NULL\n",
                "        END AS MonthsOfStockRemaining\n",
                "    FROM\n",
                "        SalesTrends ST\n",
                "    JOIN\n",
                "        StockLevels SL ON ST.ProductID = SL.ProductID\n",
                "    --WHERE ST.ProductName = @ProductName\n",
                "    ORDER BY\n",
                "        ST.ProductName;';\n",
                "\n",
                "    EXEC sp_executesql @SQL;\n",
                "    END TRY\n",
                "    BEGIN CATCH\n",
                "        PRINT 'Ein Fehler ist aufgetreten: ' + ERROR_MESSAGE();\n",
                "        THROW;\n",
                "    END CATCH\n",
                "END;\n",
                "GO\n",
                ""
            ],
            "metadata": {
                "azdata_cell_guid": "b0f52e1b-ca3e-4374-8bc4-012a13f16ff8",
                "language": "sql"
            },
            "outputs": [
                {
                    "output_type": "display_data",
                    "data": {
                        "text/html": "Commands completed successfully."
                    },
                    "metadata": {}
                },
                {
                    "output_type": "display_data",
                    "data": {
                        "text/html": "Total execution time: 00:00:00.068"
                    },
                    "metadata": {}
                }
            ],
            "execution_count": 19
        },
        {
            "cell_type": "code",
            "source": [
                "EXEC Transfer_Sales_SalesOrderHeader\n",
                "EXEC Transfer_Sales_SalesOrderDetail\n",
                "EXEC Transfer_Production_ProductInventory\n",
                "EXEC Transfer_Production_Product\n",
                "EXEC ETL_SalesTrends_Facttable "
            ],
            "metadata": {
                "azdata_cell_guid": "a727b8d2-6342-4bd0-a42b-2a0656060e5f",
                "language": "sql"
            },
            "outputs": [
                {
                    "output_type": "display_data",
                    "data": {
                        "text/html": "(31465 rows affected)"
                    },
                    "metadata": {}
                },
                {
                    "output_type": "display_data",
                    "data": {
                        "text/html": "(121317 rows affected)"
                    },
                    "metadata": {}
                },
                {
                    "output_type": "display_data",
                    "data": {
                        "text/html": "(1069 rows affected)"
                    },
                    "metadata": {}
                },
                {
                    "output_type": "display_data",
                    "data": {
                        "text/html": "(504 rows affected)"
                    },
                    "metadata": {}
                },
                {
                    "output_type": "display_data",
                    "data": {
                        "text/html": "Total execution time: 00:00:01.007"
                    },
                    "metadata": {}
                }
            ],
            "execution_count": 20
        },
        {
            "cell_type": "markdown",
            "source": [
                "# ETL SalesTrendsSpecified -Alem"
            ],
            "metadata": {
                "language": "sql",
                "azdata_cell_guid": "56a60a30-bbad-4974-8f31-e9b52692142c"
            },
            "attachments": {}
        },
        {
            "cell_type": "code",
            "source": [
                "USE DWH;\n",
                "GO\n",
                "\n",
                "CREATE PROCEDURE ETL_SalesTrendsSpecified_ProductID\n",
                "AS\n",
                "BEGIN\n",
                "    SET NOCOUNT ON;\n",
                "\n",
                "    DECLARE @TableToCreate NVARCHAR(128) = 'DWH.DWH_SalesTrendsSpecified.Dim_ProductID';\n",
                "    DECLARE @SQL NVARCHAR(MAX);\n",
                "    BEGIN TRY\n",
                "\n",
                "    IF OBJECT_ID(@TableToCreate, 'U') IS NOT NULL\n",
                "    BEGIN\n",
                "        SET @SQL = 'DROP TABLE ' + @TableToCreate;\n",
                "        EXEC sp_executesql @SQL;\n",
                "    END\n",
                "\n",
                "    SET @SQL = 'CREATE TABLE ' + @TableToCreate + ' (\n",
                "        ProductID INT PRIMARY KEY,\n",
                "        Produktname VARCHAR(MAX)\n",
                "    )';\n",
                "    EXEC sp_executesql @SQL;\n",
                "\n",
                "-- Define the SELECT DISTINCT AND THE COLUMNS we want to select\n",
                "    SET @SQL = 'INSERT INTO ' + @TableToCreate + ' (ProductID, Produktname)\n",
                "    SELECT DISTINCT pr.ProductID, \n",
                "pr.Name as Produktname\n",
                "FROM  \n",
                "    staging.Staging_SalesOrderHeader sh  \n",
                "LEFT OUTER JOIN  \n",
                "    staging.Staging_SalesOrderDetail sd ON sh.SalesOrderID = sd.SalesOrderID \n",
                "LEFT OUTER JOIN  \n",
                "    staging.Staging_Product pr ON sd.ProductID = pr.ProductID';\n",
                "    EXEC sp_executesql @SQL;\n",
                "    END TRY\n",
                "    BEGIN CATCH\n",
                "        PRINT 'Ein Fehler ist aufgetreten: ' + ERROR_MESSAGE();\n",
                "        THROW;\n",
                "    END CATCH\n",
                "END;\n",
                "GO\n",
                "\n",
                "\n",
                ""
            ],
            "metadata": {
                "language": "sql",
                "azdata_cell_guid": "d97ebd37-d79f-46d7-8e2e-d94390d8da92"
            },
            "outputs": [
                {
                    "output_type": "display_data",
                    "data": {
                        "text/html": "Commands completed successfully."
                    },
                    "metadata": {}
                },
                {
                    "output_type": "display_data",
                    "data": {
                        "text/html": "Commands completed successfully."
                    },
                    "metadata": {}
                },
                {
                    "output_type": "display_data",
                    "data": {
                        "text/html": "Total execution time: 00:00:00.171"
                    },
                    "metadata": {}
                }
            ],
            "execution_count": 21
        },
        {
            "cell_type": "code",
            "source": [
                "USE DWH;\n",
                "GO\n",
                "\n",
                "CREATE PROCEDURE SalesTrendsSpecified_CreateMonthTable\n",
                "AS\n",
                "BEGIN\n",
                "    SET NOCOUNT ON;\n",
                "    BEGIN TRY\n",
                "\n",
                "    IF OBJECT_ID('DWH.DWH_SalesTrendsSpecified.Dim_Month', 'U') IS NOT NULL\n",
                "    BEGIN\n",
                "        DROP TABLE DWH.DWH_SalesTrendsSpecified.Dim_Month; \n",
                "    END\n",
                "\n",
                "    CREATE TABLE [DWH].[DWH_SalesTrendsSpecified].Dim_Month (\n",
                "        MonthID INT PRIMARY KEY NOT NULL,\n",
                "        MonthName NVARCHAR(50) NOT NULL\n",
                "    );\n",
                "\n",
                "    INSERT INTO [DWH].[DWH_SalesTrendsSpecified].Dim_Month (MonthID, MonthName)\n",
                "    VALUES \n",
                "        (1, 'January'),\n",
                "        (2, 'February'),\n",
                "        (3, 'March'),\n",
                "        (4, 'April'),\n",
                "        (5, 'May'),\n",
                "        (6, 'June'),\n",
                "        (7, 'July'),\n",
                "        (8, 'August'),\n",
                "        (9, 'September'),\n",
                "        (10, 'October'),\n",
                "        (11, 'November'),\n",
                "        (12, 'December');\n",
                "        END TRY\n",
                "    BEGIN CATCH\n",
                "        PRINT 'Ein Fehler ist aufgetreten: ' + ERROR_MESSAGE();\n",
                "        THROW;\n",
                "    END CATCH\n",
                "END;\n",
                "GO\n",
                ""
            ],
            "metadata": {
                "language": "sql",
                "azdata_cell_guid": "2422bacb-a30e-418b-8cb8-a50c1763e6b1"
            },
            "outputs": [
                {
                    "output_type": "display_data",
                    "data": {
                        "text/html": "Commands completed successfully."
                    },
                    "metadata": {}
                },
                {
                    "output_type": "display_data",
                    "data": {
                        "text/html": "Commands completed successfully."
                    },
                    "metadata": {}
                },
                {
                    "output_type": "display_data",
                    "data": {
                        "text/html": "Total execution time: 00:00:00.105"
                    },
                    "metadata": {}
                }
            ],
            "execution_count": 22
        },
        {
            "cell_type": "code",
            "source": [
                "Use DWH;\n",
                "GO\n",
                "CREATE PROCEDURE SalesTrendsSpecified_CreateYearsTable\n",
                "AS\n",
                "BEGIN\n",
                "    SET NOCOUNT ON;\n",
                "    BEGIN TRY\n",
                "\n",
                "\n",
                "    IF OBJECT_ID('DWH.DWH_SalesTrendsSpecified.Dim_Years', 'U') IS NOT NULL\n",
                "    BEGIN\n",
                "        DROP TABLE DWH.DWH_SalesTrendsSpecified.Dim_Years; \n",
                "    END\n",
                "\n",
                "    CREATE TABLE [DWH].[DWH_SalesTrendsSpecified].Dim_Years (\n",
                "        SalesYear INT ,      \n",
                "        YearID INT PRIMARY KEY NOT NULL        \n",
                "    );\n",
                "\n",
                "    INSERT INTO [DWH].[DWH_SalesTrendsSpecified].Dim_Years (SalesYear, YearID)\n",
                "    VALUES \n",
                "        (1, 2011),\n",
                "        (2, 2012),\n",
                "        (3, 2013),\n",
                "        (4, 2014),\n",
                "        (5, 2015);\n",
                "        END TRY\n",
                "    BEGIN CATCH\n",
                "        PRINT 'Ein Fehler ist aufgetreten: ' + ERROR_MESSAGE();\n",
                "        THROW;\n",
                "    END CATCH\n",
                "END;\n",
                "GO\n",
                ""
            ],
            "metadata": {
                "language": "sql",
                "azdata_cell_guid": "d2c0e22a-2904-4a39-b7db-4b17dabb3638"
            },
            "outputs": [
                {
                    "output_type": "display_data",
                    "data": {
                        "text/html": "Commands completed successfully."
                    },
                    "metadata": {}
                },
                {
                    "output_type": "display_data",
                    "data": {
                        "text/html": "Commands completed successfully."
                    },
                    "metadata": {}
                },
                {
                    "output_type": "display_data",
                    "data": {
                        "text/html": "Total execution time: 00:00:00.188"
                    },
                    "metadata": {}
                }
            ],
            "execution_count": 23
        },
        {
            "cell_type": "code",
            "source": [
                "CREATE PROCEDURE ETL_SalesTrendsSpecified_Facttable\n",
                "(\n",
                "    @ProductName NVARCHAR(MAX)\n",
                ")\n",
                "AS\n",
                "BEGIN\n",
                "    SET NOCOUNT ON;\n",
                "\n",
                "    DECLARE @TableToCreate NVARCHAR(128) = 'DWH.DWH_SalesTrendsSpecified.Facttable';\n",
                "    DECLARE @SQL NVARCHAR(MAX);\n",
                "    BEGIN TRY\n",
                "\n",
                "    IF OBJECT_ID(@TableToCreate, 'U') IS NOT NULL\n",
                "    BEGIN\n",
                "        DECLARE @DropFKSQL NVARCHAR(MAX);\n",
                "        SET @DropFKSQL = N'';\n",
                "\n",
                "        SELECT @DropFKSQL = @DropFKSQL + 'ALTER TABLE ' + QUOTENAME(OBJECT_NAME(parent_object_id)) + \n",
                "                            ' DROP CONSTRAINT ' + QUOTENAME(name) + '; '\n",
                "        FROM sys.foreign_keys\n",
                "        WHERE referenced_object_id = OBJECT_ID(@TableToCreate);\n",
                "\n",
                "        EXEC sp_executesql @DropFKSQL;\n",
                "\n",
                "        -- Drop the table\n",
                "        SET @SQL = 'DROP TABLE ' + @TableToCreate;\n",
                "        EXEC sp_executesql @SQL;\n",
                "    END\n",
                "\n",
                "    -- Call other stored procedures\n",
                "    EXEC ETL_SalesTrendsSpecified_ProductID;\n",
                "    EXEC SalesTrendsSpecified_CreateYearsTable;\n",
                "    EXEC SalesTrendsSpecified_CreateMonthTable;\n",
                "\n",
                "    -- Create the Facttable\n",
                "    SET @SQL = 'CREATE TABLE ' + @TableToCreate + ' (\n",
                "        ProductID INT FOREIGN KEY REFERENCES DWH.DWH_SalesTrendsSpecified.Dim_ProductID(ProductID) NOT NULL,\n",
                "        SalesOrderMonth INT FOREIGN KEY REFERENCES DWH.DWH_SalesTrendsSpecified.Dim_Month(MonthID) NOT NULL,\n",
                "        SalesOrderYear INT FOREIGN KEY REFERENCES DWH.DWH_SalesTrendsSpecified.Dim_Years(YearID) NOT NULL,\n",
                "        TotalStock INT,\n",
                "        AvgMonthlySales DECIMAL(18, 2),\n",
                "        MonthsOfStockRemaining DECIMAL(18, 2)\n",
                "    )';\n",
                "    EXEC sp_executesql @SQL;\n",
                "\n",
                "    -- Insert the calculated data\n",
                "    SET @SQL = '\n",
                "    WITH SalesTrends AS (\n",
                "        SELECT\n",
                "            P.ProductID,\n",
                "            P.Name AS ProductName,\n",
                "            MONTH(SOH.OrderDate) AS SalesOrderMonth,\n",
                "            YEAR(SOH.OrderDate) AS SalesOrderYear,\n",
                "            SUM(SOD.OrderQty) AS SoldQtyPerMonth\n",
                "        FROM\n",
                "            staging.Staging_SalesOrderDetail SOD\n",
                "        JOIN\n",
                "            staging.Staging_SalesOrderHeader SOH ON SOD.SalesOrderID = SOH.SalesOrderID\n",
                "        JOIN\n",
                "            staging.Staging_Product P ON SOD.ProductID = P.ProductID\n",
                "        GROUP BY\n",
                "            P.ProductID,\n",
                "            P.Name,\n",
                "            MONTH(SOH.OrderDate),\n",
                "            YEAR(SOH.OrderDate)\n",
                "    ),\n",
                "    StockLevels AS (\n",
                "        SELECT\n",
                "            PI.ProductID,\n",
                "            SUM(PI.Quantity) AS TotalStock\n",
                "        FROM\n",
                "            staging.Staging_ProductInventory PI\n",
                "        GROUP BY\n",
                "            PI.ProductID\n",
                "    )\n",
                "    INSERT INTO DWH.DWH_SalesTrendsspecified.Facttable (ProductID, SalesOrderMonth, SalesOrderYear, TotalStock, AvgMonthlySales, MonthsOfStockRemaining)\n",
                "    SELECT\n",
                "        ST.ProductID,\n",
                "        ST.SalesOrderMonth,\n",
                "        ST.SalesOrderYear,\n",
                "        SL.TotalStock,\n",
                "        ST.SoldQtyPerMonth,\n",
                "        CASE\n",
                "            WHEN ST.SoldQtyPerMonth > 0 THEN ROUND(CAST(SL.TotalStock AS FLOAT) / ST.SoldQtyPerMonth, 2)\n",
                "            ELSE NULL\n",
                "        END AS MonthsOfStockRemaining\n",
                "    FROM\n",
                "        SalesTrends ST\n",
                "    JOIN\n",
                "        StockLevels SL ON ST.ProductID = SL.ProductID\n",
                "    WHERE ST.ProductName = @ProductName\n",
                "    ORDER BY\n",
                "        ST.ProductName;';\n",
                "\n",
                "    -- Use sp_executesql with parameterized query\n",
                "    EXEC sp_executesql @SQL, N'@ProductName NVARCHAR(MAX)', @ProductName;\n",
                "    END TRY\n",
                "    BEGIN CATCH\n",
                "        PRINT 'Ein Fehler ist aufgetreten: ' + ERROR_MESSAGE();\n",
                "        THROW;\n",
                "    END CATCH\n",
                "END;\n",
                "GO\n",
                ""
            ],
            "metadata": {
                "language": "sql",
                "azdata_cell_guid": "2c98a476-c476-4e07-b9f1-b132f69ed23f"
            },
            "outputs": [
                {
                    "output_type": "display_data",
                    "data": {
                        "text/html": "Commands completed successfully."
                    },
                    "metadata": {}
                },
                {
                    "output_type": "display_data",
                    "data": {
                        "text/html": "Total execution time: 00:00:00.069"
                    },
                    "metadata": {}
                }
            ],
            "execution_count": 24
        },
        {
            "cell_type": "code",
            "source": [
                "\n",
                "EXEC ETL_SalesTrendsSpecified_Facttable 'ML Road Tire'"
            ],
            "metadata": {
                "language": "sql",
                "azdata_cell_guid": "af14a73e-4e31-45cb-bca5-8e8a7ccdcfd7",
                "tags": []
            },
            "outputs": [
                {
                    "output_type": "display_data",
                    "data": {
                        "text/html": "Commands completed successfully."
                    },
                    "metadata": {}
                },
                {
                    "output_type": "display_data",
                    "data": {
                        "text/html": "Total execution time: 00:00:00.272"
                    },
                    "metadata": {}
                }
            ],
            "execution_count": 25
        },
        {
            "cell_type": "markdown",
            "source": [
                "## Copy Tables into staging - Raylin"
            ],
            "metadata": {
                "azdata_cell_guid": "60bc6819-f4ce-493c-b312-9b05ab52aa81"
            },
            "attachments": {}
        },
        {
            "cell_type": "code",
            "source": [
                "USE DWH;\n",
                "GO\n",
                "CREATE PROCEDURE \"Transfer_Sales_SalesPerson\"\n",
                "(\n",
                "@SourceDB VARCHAR(50)= \"ERP\",\n",
                "@SourceSchemaTable VARCHAR(50)= \"Sales.SalesPerson\",\n",
                "@DestinationDB VARCHAR(50) = \"DWH\",\n",
                "@DestinationSchemaTable VARCHAR(50) = \"staging.Staging_SalesPerson\"\n",
                ")AS\n",
                "BEGIN\n",
                "DECLARE @SQL NVARCHAR(MAX)\n",
                "    DECLARE @FullyQualifiedDestinationTable NVARCHAR(128) = @DestinationDB + '.' + @DestinationSchemaTable;\n",
                "\n",
                "    BEGIN TRY\n",
                "\n",
                "    IF OBJECT_ID(@FullyQualifiedDestinationTable, 'U') IS NOT NULL\n",
                "    BEGIN\n",
                "        SET @SQL = 'DROP TABLE ' + @FullyQualifiedDestinationTable;\n",
                "        EXEC sp_executesql @SQL;\n",
                "    END\n",
                "\n",
                "\n",
                "SET @SQL = N'SELECT * INTO ' + @DestinationDB + '.' + @DestinationSchemaTable + ' FROM ' + @SourceDB + '.' + @SourceSchemaTable\n",
                "EXEC sp_executesql @SQL;\n",
                "END TRY\n",
                "    BEGIN CATCH\n",
                "        PRINT 'Ein Fehler ist aufgetreten: ' + ERROR_MESSAGE();\n",
                "        THROW;\n",
                "    END CATCH\n",
                "END;\n",
                "Go"
            ],
            "metadata": {
                "azdata_cell_guid": "de46c943-d274-4923-927a-d07c7dcda5f1",
                "language": "sql"
            },
            "outputs": [
                {
                    "output_type": "display_data",
                    "data": {
                        "text/html": "Commands completed successfully."
                    },
                    "metadata": {}
                },
                {
                    "output_type": "display_data",
                    "data": {
                        "text/html": "Commands completed successfully."
                    },
                    "metadata": {}
                },
                {
                    "output_type": "display_data",
                    "data": {
                        "text/html": "Total execution time: 00:00:00.091"
                    },
                    "metadata": {}
                }
            ],
            "execution_count": 26
        },
        {
            "cell_type": "code",
            "source": [
                "USE DWH\n",
                "GO\n",
                "CREATE PROCEDURE \"Transfer_Sales_SalesTerritory\"\n",
                "(\n",
                "@SourceDB VARCHAR(50)= \"ERP\",\n",
                "@SourceSchemaTable VARCHAR(50)= \"Sales.SalesTerritory\",\n",
                "@DestinationDB VARCHAR(50) = \"DWH\",\n",
                "@DestinationSchemaTable VARCHAR(50) = \"staging.Staging_SalesTerritory\"\n",
                ")AS\n",
                "BEGIN\n",
                "DECLARE @SQL NVARCHAR(MAX)\n",
                "    DECLARE @FullyQualifiedDestinationTable NVARCHAR(128) = @DestinationDB + '.' + @DestinationSchemaTable;\n",
                "\n",
                "BEGIN TRY\n",
                "    IF OBJECT_ID(@FullyQualifiedDestinationTable, 'U') IS NOT NULL\n",
                "    BEGIN\n",
                "        SET @SQL = 'DROP TABLE ' + @FullyQualifiedDestinationTable;\n",
                "        EXEC sp_executesql @SQL;\n",
                "    END\n",
                "\n",
                "SET @SQL = N'SELECT * INTO ' + @DestinationDB + '.' + @DestinationSchemaTable + ' FROM ' + @SourceDB + '.' + @SourceSchemaTable\n",
                "EXEC sp_executesql @SQL\n",
                "END TRY\n",
                "    BEGIN CATCH\n",
                "        PRINT 'Ein Fehler ist aufgetreten: ' + ERROR_MESSAGE();\n",
                "        THROW;\n",
                "    END CATCH\n",
                "END;\n",
                "GO\n",
                "\n",
                ""
            ],
            "metadata": {
                "azdata_cell_guid": "f0f1d985-40a2-4b8a-9988-b387c7a59c26",
                "language": "sql"
            },
            "outputs": [
                {
                    "output_type": "display_data",
                    "data": {
                        "text/html": "Commands completed successfully."
                    },
                    "metadata": {}
                },
                {
                    "output_type": "display_data",
                    "data": {
                        "text/html": "Commands completed successfully."
                    },
                    "metadata": {}
                },
                {
                    "output_type": "display_data",
                    "data": {
                        "text/html": "Total execution time: 00:00:00.128"
                    },
                    "metadata": {}
                }
            ],
            "execution_count": 27
        },
        {
            "cell_type": "markdown",
            "source": [
                "Create Schemas"
            ],
            "metadata": {
                "azdata_cell_guid": "77d72801-f65a-4742-914c-0419a54e554f"
            }
        },
        {
            "cell_type": "markdown",
            "source": [
                "## ETL - Raylin"
            ],
            "metadata": {
                "azdata_cell_guid": "d7d0e6c8-3834-4b16-bedf-7b906de47291"
            },
            "attachments": {}
        },
        {
            "cell_type": "code",
            "source": [
                "USE DWH;\n",
                "GO\n",
                "\n",
                "CREATE PROCEDURE \"ETL_TerritorySales_TerritoryID\"\n",
                "AS\n",
                "BEGIN\n",
                "    SET NOCOUNT ON;\n",
                "\n",
                "    DECLARE @TableToCreate NVARCHAR(128) = 'DWH.DWH_TerritorySales.Dim_TerritoryID';\n",
                "    DECLARE @SQL NVARCHAR(MAX);\n",
                "\n",
                "    BEGIN TRY\n",
                "\n",
                "    IF OBJECT_ID(@TableToCreate, 'U') IS NOT NULL\n",
                "    BEGIN\n",
                "        SET @SQL = 'DROP TABLE ' + @TableToCreate;\n",
                "        EXEC sp_executesql @SQL;\n",
                "    END\n",
                "\n",
                "    SET @SQL = 'CREATE TABLE ' + @TableToCreate + ' (\n",
                "        territoryID INT PRIMARY KEY,\n",
                "        Territory VARCHAR(MAX)\n",
                "    )';\n",
                "    EXEC sp_executesql @SQL;\n",
                "\n",
                "    SET @SQL = 'INSERT INTO ' + @TableToCreate + ' (territoryID, Territory)\n",
                "    SELECT DISTINCT sap.territoryID, \n",
                "st.Name as Territory\n",
                "from staging.Staging_SalesPerson sap \n",
                "left outer join staging.Staging_SalesTerritory st on st.territoryID = sap.TerritoryID\n",
                "WHERE sap.territoryID IS NOT NULL';\n",
                "    EXEC sp_executesql @SQL;\n",
                "    END TRY\n",
                "    BEGIN CATCH\n",
                "        PRINT 'Ein Fehler ist aufgetreten: ' + ERROR_MESSAGE();\n",
                "        THROW;\n",
                "    END CATCH\n",
                "END;\n",
                "GO\n",
                "\n",
                "\n",
                ""
            ],
            "metadata": {
                "azdata_cell_guid": "9074f9ec-a8be-47cf-acaa-144b2d524fc0",
                "language": "sql"
            },
            "outputs": [
                {
                    "output_type": "display_data",
                    "data": {
                        "text/html": "Commands completed successfully."
                    },
                    "metadata": {}
                },
                {
                    "output_type": "display_data",
                    "data": {
                        "text/html": "Commands completed successfully."
                    },
                    "metadata": {}
                },
                {
                    "output_type": "display_data",
                    "data": {
                        "text/html": "Total execution time: 00:00:00.148"
                    },
                    "metadata": {}
                }
            ],
            "execution_count": 28
        },
        {
            "cell_type": "code",
            "source": [
                "USE DWH;\n",
                "GO\n",
                "\n",
                "CREATE PROCEDURE \"ETL_SalesPersonBusinessEntityId\"\n",
                "AS\n",
                "BEGIN\n",
                "    SET NOCOUNT ON;\n",
                "\n",
                "    DECLARE @TableToCreate NVARCHAR(128) = 'DWH.DWH_TerritorySales.Dim_SalesPersonBusinessEntityId';\n",
                "    DECLARE @SQL NVARCHAR(MAX);\n",
                "\n",
                "    BEGIN TRY\n",
                "\n",
                "    IF OBJECT_ID(@TableToCreate, 'U') IS NOT NULL\n",
                "    BEGIN\n",
                "        SET @SQL = 'DROP TABLE ' + @TableToCreate;\n",
                "        EXEC sp_executesql @SQL;\n",
                "    END\n",
                "\n",
                "    SET @SQL = 'CREATE TABLE ' + @TableToCreate + ' (\n",
                "        SalesPersonBusinessEntityId INT PRIMARY KEY,\n",
                "        SalesYTD INT,\n",
                "        SalesLastYear INT\n",
                "    )';\n",
                "    EXEC sp_executesql @SQL;\n",
                "\n",
                "-- Define the SELECT DISTINCT AND THE COLUMNS we want to select\n",
                "    SET @SQL = 'INSERT INTO ' + @TableToCreate + ' (SalesPersonBusinessEntityId, SalesYTD, SalesLastYear)\n",
                "    SELECT DISTINCT sap.BusinessEntityID as SalesPersonBusinessEntitiyID, \n",
                "     sap.SalesYTD, \n",
                "sap.SalesLastYear\n",
                "from staging.Staging_SalesPerson sap \n",
                "left outer join staging.Staging_SalesTerritory st on st.territoryID = sap.TerritoryID';\n",
                "    EXEC sp_executesql @SQL;\n",
                "    END TRY\n",
                "    BEGIN CATCH\n",
                "        PRINT 'Ein Fehler ist aufgetreten: ' + ERROR_MESSAGE();\n",
                "        THROW;\n",
                "    END CATCH\n",
                "END;\n",
                "GO\n",
                "\n",
                "\n",
                ""
            ],
            "metadata": {
                "azdata_cell_guid": "c009da4b-211c-41eb-a7c8-668fe2bca013",
                "language": "sql"
            },
            "outputs": [
                {
                    "output_type": "display_data",
                    "data": {
                        "text/html": "Commands completed successfully."
                    },
                    "metadata": {}
                },
                {
                    "output_type": "display_data",
                    "data": {
                        "text/html": "Commands completed successfully."
                    },
                    "metadata": {}
                },
                {
                    "output_type": "display_data",
                    "data": {
                        "text/html": "Total execution time: 00:00:00.119"
                    },
                    "metadata": {}
                }
            ],
            "execution_count": 29
        },
        {
            "cell_type": "code",
            "source": [
                "USE DWH;\n",
                "GO\n",
                "\n",
                "CREATE PROCEDURE ETL_TerritorySales_Facttable\n",
                "AS\n",
                "BEGIN\n",
                "    SET NOCOUNT ON;\n",
                "\n",
                "    DECLARE @TableToCreate NVARCHAR(128) = 'DWH.DWH_TerritorySales.Facttable';\n",
                "    DECLARE @SQL NVARCHAR(MAX);\n",
                "\n",
                "    BEGIN TRY\n",
                "\n",
                "    IF OBJECT_ID(@TableToCreate, 'U') IS NOT NULL\n",
                "    BEGIN\n",
                "        DECLARE @DropFKSQL NVARCHAR(MAX);\n",
                "        SET @DropFKSQL = N'';\n",
                "\n",
                "        SELECT @DropFKSQL = @DropFKSQL + 'ALTER TABLE ' + QUOTENAME(OBJECT_NAME(parent_object_id)) + \n",
                "                            ' DROP CONSTRAINT ' + QUOTENAME(name) + '; '\n",
                "        FROM sys.foreign_keys\n",
                "        WHERE referenced_object_id = OBJECT_ID(@TableToCreate);\n",
                "\n",
                "        EXEC sp_executesql @DropFKSQL;\n",
                "\n",
                "        -- Drop the table\n",
                "        SET @SQL = 'DROP TABLE ' + @TableToCreate;\n",
                "        EXEC sp_executesql @SQL;\n",
                "    END\n",
                "    EXEC ETL_SalesPersonBusinessEntityId\n",
                "    EXEC ETL_TerritorySales_TerritoryID\n",
                "\n",
                "\n",
                "    SET @SQL = 'CREATE TABLE ' + @TableToCreate + ' (\n",
                "        territoryID INT FOREIGN KEY REFERENCES DWH_TerritorySales.Dim_TerritoryID(territoryID) NULL,\n",
                "        territorySalesYTD INT,\n",
                "        TerritorySalesLastYear INT,\n",
                "        SalesPersonBusinessEntityId int FOREIGN KEY REFERENCES DWH_TerritorySales.Dim_SalesPersonBusinessEntityId(SalesPersonBusinessEntityId) \n",
                "    )';\n",
                "    EXEC sp_executesql @SQL;\n",
                "\n",
                "-- Define the SELECT DISTINCT AND THE COLUMNS we want to select\n",
                "    SET @SQL = 'INSERT INTO ' + @TableToCreate + ' (territoryID,territorySalesYTD ,SalesPersonBusinessEntityId,TerritorySalesLastYear)\n",
                "    SELECT DISTINCT\n",
                "    sap.territoryID,\n",
                "    st.salesYTD as territorySalesYTD, \n",
                "    sap.BusinessEntityID as SalesPersonBusinessEntitiyID, \n",
                "    St.salesLastYear as TerritorySalesLastYear\n",
                "from staging.Staging_SalesPerson sap \n",
                "left outer join staging.Staging_SalesTerritory st on st.territoryID = sap.TerritoryID\n",
                "WHERE sap.TerritoryID IS NOT NULL\n",
                "  AND st.TerritoryID IS NOT NULL;';\n",
                "EXEC sp_executesql @SQL;\n",
                "END TRY\n",
                "    BEGIN CATCH\n",
                "        PRINT 'Ein Fehler ist aufgetreten: ' + ERROR_MESSAGE();\n",
                "        THROW;\n",
                "    END CATCH\n",
                "  END\n",
                "GO\n",
                "\n",
                "\n",
                ""
            ],
            "metadata": {
                "azdata_cell_guid": "d398bba6-5d3e-4c8f-8aeb-ac7007c31b4a",
                "language": "sql"
            },
            "outputs": [
                {
                    "output_type": "display_data",
                    "data": {
                        "text/html": "Commands completed successfully."
                    },
                    "metadata": {}
                },
                {
                    "output_type": "display_data",
                    "data": {
                        "text/html": "Commands completed successfully."
                    },
                    "metadata": {}
                },
                {
                    "output_type": "display_data",
                    "data": {
                        "text/html": "Total execution time: 00:00:00.121"
                    },
                    "metadata": {}
                }
            ],
            "execution_count": 30
        },
        {
            "cell_type": "code",
            "source": [
                "EXEC Transfer_Sales_SalesPerson\n",
                "EXEC Transfer_Sales_SalesTerritory\n",
                "EXEC ETL_TerritorySales_Facttable"
            ],
            "metadata": {
                "azdata_cell_guid": "1fd11a28-0571-4f38-a6c8-5c42af772ace",
                "language": "sql"
            },
            "outputs": [
                {
                    "output_type": "display_data",
                    "data": {
                        "text/html": "(17 rows affected)"
                    },
                    "metadata": {}
                },
                {
                    "output_type": "display_data",
                    "data": {
                        "text/html": "(10 rows affected)"
                    },
                    "metadata": {}
                },
                {
                    "output_type": "display_data",
                    "data": {
                        "text/html": "Total execution time: 00:00:00.233"
                    },
                    "metadata": {}
                }
            ],
            "execution_count": 31
        }
    ]
}